{
 "cells": [
  {
   "cell_type": "code",
   "execution_count": 1,
   "metadata": {},
   "outputs": [],
   "source": [
    "import openai\n",
    "import os\n",
    "from dotenv import load_dotenv\n",
    "\n",
    "load_dotenv()  # take environment variables from .env.\n",
    "openai.api_key = os.getenv('OPENAI_API_KEY')"
   ]
  },
  {
   "cell_type": "code",
   "execution_count": 2,
   "metadata": {},
   "outputs": [
    {
     "data": {
      "text/plain": [
       "'You are a seasoned data annotation engineer with extensive experience in reviewing restaurants. \\nYour task is to classify the sentiment of a review based on three aspects: Ambience, Food, Price, Service.\\nSentiment classification: positive, negative, neutral, not mentioned.\\nOnly output the aspect and corresponding sentiment in JSON format, do not include any other information.\\nPlease enter the review:'"
      ]
     },
     "execution_count": 2,
     "metadata": {},
     "output_type": "execute_result"
    }
   ],
   "source": [
    "# read prompt\n",
    "with open('prompt.txt') as f:\n",
    "    system_prompt = f.read()\n",
    "\n",
    "system_prompt"
   ]
  },
  {
   "cell_type": "code",
   "execution_count": 3,
   "metadata": {},
   "outputs": [],
   "source": [
    "# review\n",
    "user_message = \"This place is pretty cool with awesome decor. The drinks are decent but a bit on the pricey side.\""
   ]
  },
  {
   "cell_type": "code",
   "execution_count": 4,
   "metadata": {},
   "outputs": [
    {
     "name": "stdout",
     "output_type": "stream",
     "text": [
      "{\n",
      "  \"Ambience\": \"positive\",\n",
      "  \"Food\": \"neutral\",\n",
      "  \"Price\": \"negative\",\n",
      "  \"Service\": \"not mentioned\"\n",
      "}\n"
     ]
    }
   ],
   "source": [
    "from openai import OpenAI\n",
    "client = OpenAI()\n",
    "\n",
    "#model=\"gpt-4-0125-preview\"\n",
    "model=\"gpt-3.5-turbo-0125\"\n",
    "\n",
    "response = client.chat.completions.create(\n",
    "  model=model,\n",
    "  temperature=0,\n",
    "  response_format={ \"type\": \"json_object\" },\n",
    "  messages=[\n",
    "    {\"role\": \"system\", \"content\": system_prompt},\n",
    "    {\"role\": \"user\", \"content\": user_message}\n",
    "  ]\n",
    ")\n",
    "print(response.choices[0].message.content)\n"
   ]
  },
  {
   "cell_type": "code",
   "execution_count": 5,
   "metadata": {},
   "outputs": [
    {
     "name": "stdout",
     "output_type": "stream",
     "text": [
      "prompt tokens: 107, input tokens: 32, total tokens: 139\n",
      "cost: 6.95e-05\n"
     ]
    }
   ],
   "source": [
    "print(f\"prompt tokens: {response.usage.prompt_tokens}, input tokens: {response.usage.completion_tokens}, total tokens: {response.usage.total_tokens}\")\n",
    "print(f\"cost: {response.usage.total_tokens * 0.5/1000000}\")  # $0.0005 per token for GPT-3.5-turbo-0125"
   ]
  },
  {
   "cell_type": "code",
   "execution_count": null,
   "metadata": {},
   "outputs": [],
   "source": []
  }
 ],
 "metadata": {
  "kernelspec": {
   "display_name": "venv",
   "language": "python",
   "name": "python3"
  },
  "language_info": {
   "codemirror_mode": {
    "name": "ipython",
    "version": 3
   },
   "file_extension": ".py",
   "mimetype": "text/x-python",
   "name": "python",
   "nbconvert_exporter": "python",
   "pygments_lexer": "ipython3",
   "version": "3.10.0"
  }
 },
 "nbformat": 4,
 "nbformat_minor": 2
}
