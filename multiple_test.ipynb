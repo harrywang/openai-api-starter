{
 "cells": [
  {
   "cell_type": "code",
   "execution_count": 21,
   "metadata": {},
   "outputs": [],
   "source": [
    "# prompt\n",
    "import openai\n",
    "import os\n",
    "import json\n",
    "\n",
    "from dotenv import load_dotenv, find_dotenv\n",
    "\n",
    "_ = load_dotenv(find_dotenv()) # read local .env file\n",
    "\n",
    "openai.api_key = os.getenv('OPENAI_API_KEY')"
   ]
  },
  {
   "cell_type": "code",
   "execution_count": 22,
   "metadata": {},
   "outputs": [
    {
     "data": {
      "text/plain": [
       "'You are an experienced data labeling engineer with extensive experience in labeling affiliation informations. Your task is to use your comprehensive knowledge of business and management schools to complete seven attributes. If any one attribute is not specified in the provided information please deduce by other attributes. \\n\\nI will provide you with several examples:\\n1. Deduce \"university/company/institute\" by \"department\" and \"college/school/faculty\" \\nexample input: Professor of information systems and management, Heinz College expected output: {\\n  \"address\": \"5000 Forbes Avenue, Pittsburgh, PA 15213, USA\",\\n  \"department\": \"Information Systems and Management\",\\n  \"college/school/faculty\": \"Heinz College of Information Systems and Public Policy\",\\n  \"if it\\'s a business/management school\": false,\\n  \"university/company/institute\": \"Carnegie Mellon University\",\\n  \"country\": \"US\",\\n  \"city\": \"Pittsburgh\"\\n}\\n2. deduce \"college/school/faculty\" by other attributes\\nexample input: Department of Accounting, Renmin University of China, Beijing, China\\nexpected output: {\\n  \"address\": \"59 Zhongguancun Street, Haidian District, Beijing 100872, China\",\\n  \"department\": \"Department of Accounting\",\\n  \"college/school/faculty\": \"School of Business\",\\n  \"if it\\'s a business/management school\": true,\\n  \"university/company/institute\": \"Renmin University of China\",\\n  \"country\": \"CN\",\\n  \"city\": \"Beijing\"\\n}\\n\\n3. deduce \"address\" by other attributes\\nexample input: School of Management, Xi\\'an Jiaotong University, 710049, Xi\\'an, Shaanxi, China | Department of Accountancy, City University of HongKong, Kowloon, Hong Kong\\nexpected output: [\\n  {\\n    \"address\": \"710049, Xi\\'an, Shaanxi, China\",\\n    \"department\": \"School of Management\",\\n    \"college/school/faculty\": \"School of Management\",\\n    \"if it\\'s a business/management school\": true,\\n    \"university/company/institute\": \"Xi\\'an Jiaotong University\",\\n    \"country\": \"CN\",\\n    \"city\": \"Xi\\'an\"\\n  },\\n  {\\n    \"address\": \"83 Tat Chee Avenue, Kowloon, Hong Kong SAR\",\\n    \"department\": \"Department of Accountancy\",\\n    \"college/school/faculty\": \"CityU College of Business\",\\n    \"if it\\'s a business/management school\": true, \\n    \"university/company/institute\": \"City University of Hong Kong\",\\n    \"country\": \"HK\",\\n    \"city\": \"Hong Kong\"\\n  }\\n]\\n\\n\\n\\n\\nPlease provide the output only in JSON format and do not include any additional information.\\n\\nPlease input affiliation information: '"
      ]
     },
     "execution_count": 22,
     "metadata": {},
     "output_type": "execute_result"
    }
   ],
   "source": [
    "# read prompt\n",
    "with open('prompt_with_examples.txt') as f:\n",
    "    system_prompt = f.read()\n",
    "\n",
    "system_prompt"
   ]
  },
  {
   "cell_type": "code",
   "execution_count": 23,
   "metadata": {},
   "outputs": [],
   "source": [
    "import json\n",
    "\n",
    "with open('/Users/yihong_eric_chen/Desktop/buzpub/pub-analytics/pre-processing/papers_info_10.json') as f:\n",
    "    paper_data = json.load(f)\n"
   ]
  },
  {
   "cell_type": "code",
   "execution_count": 31,
   "metadata": {},
   "outputs": [
    {
     "data": {
      "text/plain": [
       "[{'title': 'the evolution of information systems architecture: an agent-based simulation model.',\n",
       "  'abstract': \"Understanding how information systems (IS) architecture evolves and what outcomes can be expected from the evolution of IS architecture presents a considerable challenge for both research and practice. The evolution of IS architecture is marked by management's efforts to keep local and short-term IS investments in line with enterprise-wide and long-term objectives, so they often employ coercive mechanisms to enforce enterprise-wide considerations on local actors. However, an organization is shaped by a multitude of heterogeneous local actors' actions that pursue their own, sometimes conflicting, goals, norms, and values. This study offers a theory-informed simulation model that explores how IS architecture evolves and with what outcomes in various types of organizations. The simulation model is informed by institutional theory to capture various types of organizations that are characterized by different combinations of coercive, normative, and mimetic pressures, and by complex adaptive systems theory to capture the emergent character of IS architecture's evolution. First, we outline the insights from simulation experiments. Then, building on the simulation model and theoretical insights, we discuss implications for both research and practice. \",\n",
       "  'doi': '10.25300/MISQ/2020/14494',\n",
       "  'authors': [{'full_name': 'Haki, Kazem',\n",
       "    'email': 'kazem.haki@unisg.ch',\n",
       "    'affiliation': 'Institute for Information Management, University of St. Gallen, Müller-Friedberg-Strasse 8, 9000 St. Gallen, SWITZERLAND',\n",
       "    'address': 'Müller-Friedberg-Strasse 8, 9000 St. Gallen, Switzerland',\n",
       "    'department': 'Institute for Information Management',\n",
       "    'college/school/faculty': 'School of Management',\n",
       "    \"if it's a business/management school\": True,\n",
       "    'university/company/institute': 'University of St. Gallen',\n",
       "    'country': 'CH',\n",
       "    'city': 'St. Gallen'},\n",
       "   {'full_name': 'Beese, Jannis',\n",
       "    'email': 'jannis.beese@sap.com',\n",
       "    'affiliation': 'SAP AG, Bahnstrasse 1, 8274 Tägwerwilen, SWITZERLAND',\n",
       "    'address': 'Bahnstrasse 1, 8274 Tägwerwilen, Switzerland',\n",
       "    'department': None,\n",
       "    'college/school/faculty': None,\n",
       "    \"if it's a business/management school\": False,\n",
       "    'university/company/institute': 'SAP AG',\n",
       "    'country': 'CH',\n",
       "    'city': 'Tägwerwilen'},\n",
       "   {'full_name': 'Aier, Stephan',\n",
       "    'email': 'stephan.aier@uisg.ch',\n",
       "    'affiliation': 'Institute for Information Management, University of St. Gallen, Müller-Friedberg-Strasse 8, 9000 St. Gallen, SWITZERLAND',\n",
       "    'address': 'Müller-Friedberg-Strasse 8, 9000 St. Gallen, Switzerland',\n",
       "    'department': 'Institute for Information Management',\n",
       "    'college/school/faculty': 'School of Management',\n",
       "    \"if it's a business/management school\": True,\n",
       "    'university/company/institute': 'University of St. Gallen',\n",
       "    'country': 'CH',\n",
       "    'city': 'St. Gallen'},\n",
       "   {'full_name': 'Winter, Robert',\n",
       "    'email': 'robert.winter@unisg.ch',\n",
       "    'affiliation': 'Institute for Information Management, University of St. Gallen, Müller-Friedberg-Strasse 8, 9000 St. Gallen, SWITZERLAND',\n",
       "    'address': 'Müller-Friedberg-Strasse 8, 9000 St. Gallen, Switzerland',\n",
       "    'department': 'Institute for Information Management',\n",
       "    'college/school/faculty': 'School of Management',\n",
       "    \"if it's a business/management school\": True,\n",
       "    'university/company/institute': 'University of St. Gallen',\n",
       "    'country': 'CH',\n",
       "    'city': 'St. Gallen'}],\n",
       "  'keywords': ['agent-based modeling',\n",
       "   'complex adaptive systems',\n",
       "   'information systems architecture',\n",
       "   'institutional theory',\n",
       "   'simulation'],\n",
       "  'subjects': ['information storage & retrieval systems',\n",
       "   'multiagent systems',\n",
       "   'intelligent agents (computer software)',\n",
       "   'business enterprises',\n",
       "   'institutional theory (sociology)'],\n",
       "  'journal': {'title': 'MIS Quarterly',\n",
       "   'volumn': '44',\n",
       "   'issue': '1',\n",
       "   'year': '2020'}}]"
      ]
     },
     "execution_count": 31,
     "metadata": {},
     "output_type": "execute_result"
    }
   ],
   "source": [
    "test = paper_data[5:6]\n",
    "test"
   ]
  },
  {
   "cell_type": "code",
   "execution_count": 25,
   "metadata": {},
   "outputs": [],
   "source": [
    "from openai import OpenAI\n",
    "client = OpenAI()\n"
   ]
  },
  {
   "cell_type": "code",
   "execution_count": 26,
   "metadata": {},
   "outputs": [],
   "source": [
    "model=\"gpt-3.5-turbo-0125\"\n",
    "\n",
    "total_cost = 0\n",
    "def deduce_attributes(affiliation,total_cost):\n",
    "    \n",
    "    attributes = {\n",
    "        \"address\": \"\",\n",
    "        \"department\": \"\",\n",
    "        \"college/school/faculty\": \"\",\n",
    "        \"if it's a business/management school\": None,\n",
    "        \"university/company/institute\": \"\",\n",
    "        \"country\": \"\",\n",
    "        \"city\": \"\"\n",
    "    }\n",
    "\n",
    "    response = client.chat.completions.create(\n",
    "    model=model,\n",
    "    temperature=0,\n",
    "    response_format={ \"type\": \"json_object\" },\n",
    "    messages=[\n",
    "        {\"role\": \"system\", \"content\": system_prompt},\n",
    "        {\"role\": \"user\", \"content\": affiliation}\n",
    "        ]\n",
    "    )\n",
    "\n",
    "    # 假设response正确返回了预期的JSON对象格式\n",
    "    content_dict = json.loads(response.choices[0].message.content)\n",
    "    # 更新属性\n",
    "    for key in attributes.keys():\n",
    "        if key in content_dict:\n",
    "            attributes[key] = content_dict[key]\n",
    "    total_cost += response.usage.total_tokens* 0.5/1000000\n",
    "    return attributes, total_cost\n"
   ]
  },
  {
   "cell_type": "code",
   "execution_count": 28,
   "metadata": {},
   "outputs": [],
   "source": [
    "\n",
    "for paper in test:\n",
    "    for author in paper[\"authors\"]:\n",
    "        affiliation = author[\"affiliation\"]\n",
    "        deduced_attributes,total_cost = deduce_attributes(affiliation,total_cost)\n",
    "        author.update(deduced_attributes)\n"
   ]
  },
  {
   "cell_type": "code",
   "execution_count": 29,
   "metadata": {},
   "outputs": [
    {
     "name": "stdout",
     "output_type": "stream",
     "text": [
      "Total cost: $0.0014690000000000003\n"
     ]
    }
   ],
   "source": [
    "print(f\"Total cost: ${total_cost}\")"
   ]
  },
  {
   "cell_type": "code",
   "execution_count": 30,
   "metadata": {},
   "outputs": [
    {
     "name": "stdout",
     "output_type": "stream",
     "text": [
      "[{'title': 'the evolution of information systems architecture: an agent-based simulation model.', 'abstract': \"Understanding how information systems (IS) architecture evolves and what outcomes can be expected from the evolution of IS architecture presents a considerable challenge for both research and practice. The evolution of IS architecture is marked by management's efforts to keep local and short-term IS investments in line with enterprise-wide and long-term objectives, so they often employ coercive mechanisms to enforce enterprise-wide considerations on local actors. However, an organization is shaped by a multitude of heterogeneous local actors' actions that pursue their own, sometimes conflicting, goals, norms, and values. This study offers a theory-informed simulation model that explores how IS architecture evolves and with what outcomes in various types of organizations. The simulation model is informed by institutional theory to capture various types of organizations that are characterized by different combinations of coercive, normative, and mimetic pressures, and by complex adaptive systems theory to capture the emergent character of IS architecture's evolution. First, we outline the insights from simulation experiments. Then, building on the simulation model and theoretical insights, we discuss implications for both research and practice. \", 'doi': '10.25300/MISQ/2020/14494', 'authors': [{'full_name': 'Haki, Kazem', 'email': 'kazem.haki@unisg.ch', 'affiliation': 'Institute for Information Management, University of St. Gallen, Müller-Friedberg-Strasse 8, 9000 St. Gallen, SWITZERLAND', 'address': 'Müller-Friedberg-Strasse 8, 9000 St. Gallen, Switzerland', 'department': 'Institute for Information Management', 'college/school/faculty': 'School of Management', \"if it's a business/management school\": True, 'university/company/institute': 'University of St. Gallen', 'country': 'CH', 'city': 'St. Gallen'}, {'full_name': 'Beese, Jannis', 'email': 'jannis.beese@sap.com', 'affiliation': 'SAP AG, Bahnstrasse 1, 8274 Tägwerwilen, SWITZERLAND', 'address': 'Bahnstrasse 1, 8274 Tägwerwilen, Switzerland', 'department': None, 'college/school/faculty': None, \"if it's a business/management school\": False, 'university/company/institute': 'SAP AG', 'country': 'CH', 'city': 'Tägwerwilen'}, {'full_name': 'Aier, Stephan', 'email': 'stephan.aier@uisg.ch', 'affiliation': 'Institute for Information Management, University of St. Gallen, Müller-Friedberg-Strasse 8, 9000 St. Gallen, SWITZERLAND', 'address': 'Müller-Friedberg-Strasse 8, 9000 St. Gallen, Switzerland', 'department': 'Institute for Information Management', 'college/school/faculty': 'School of Management', \"if it's a business/management school\": True, 'university/company/institute': 'University of St. Gallen', 'country': 'CH', 'city': 'St. Gallen'}, {'full_name': 'Winter, Robert', 'email': 'robert.winter@unisg.ch', 'affiliation': 'Institute for Information Management, University of St. Gallen, Müller-Friedberg-Strasse 8, 9000 St. Gallen, SWITZERLAND', 'address': 'Müller-Friedberg-Strasse 8, 9000 St. Gallen, Switzerland', 'department': 'Institute for Information Management', 'college/school/faculty': 'School of Management', \"if it's a business/management school\": True, 'university/company/institute': 'University of St. Gallen', 'country': 'CH', 'city': 'St. Gallen'}], 'keywords': ['agent-based modeling', 'complex adaptive systems', 'information systems architecture', 'institutional theory', 'simulation'], 'subjects': ['information storage & retrieval systems', 'multiagent systems', 'intelligent agents (computer software)', 'business enterprises', 'institutional theory (sociology)'], 'journal': {'title': 'MIS Quarterly', 'volumn': '44', 'issue': '1', 'year': '2020'}}]\n"
     ]
    }
   ],
   "source": [
    "print(test)"
   ]
  },
  {
   "cell_type": "code",
   "execution_count": null,
   "metadata": {},
   "outputs": [],
   "source": [
    "# test0 to json\n",
    "import json\n",
    "with open('test0.json', 'w') as f:\n",
    "    json.dump(test, f, indent=4)"
   ]
  },
  {
   "cell_type": "code",
   "execution_count": null,
   "metadata": {},
   "outputs": [],
   "source": [
    "import json\n",
    "import openai\n",
    "\n",
    "openai.api_key = '你的API密钥'\n",
    "model = \"gpt-3.5-turbo-0125\"\n",
    "system_prompt = \"请根据下面的信息提取属性：\"\n",
    "\n",
    "# 初始化总成本\n",
    "total_cost = 0\n",
    "\n",
    "def deduce_attributes(affiliation, total_cost):\n",
    "    \n",
    "    attributes = {\n",
    "        \"address\": \"\",\n",
    "        \"department\": \"\",\n",
    "        \"college/school/faculty\": \"\",\n",
    "        \"if it's a business/management school\": None,\n",
    "        \"university/company/institute\": \"\",\n",
    "        \"country\": \"\",\n",
    "        \"city\": \"\"\n",
    "    }\n",
    "\n",
    "    response = openai.ChatCompletion.create(\n",
    "        model=model,\n",
    "        temperature=0,\n",
    "        messages=[\n",
    "            {\"role\": \"system\", \"content\": system_prompt},\n",
    "            {\"role\": \"user\", \"content\": affiliation}\n",
    "        ]\n",
    "    )\n",
    "\n",
    "    # 假设response正确返回了预期的JSON对象格式\n",
    "    content_dict = json.loads(response.choices[0].message.content)\n",
    "    # 更新属性\n",
    "    for key in attributes.keys():\n",
    "        if key in content_dict:\n",
    "            attributes[key] = content_dict[key]\n",
    "    \n",
    "    # 更新总成本\n",
    "    total_cost += response.usage.total_tokens * 0.5 / 1000000\n",
    "    \n",
    "    return attributes, total_cost\n",
    "\n",
    "# 遍历每个作者并更新信息\n",
    "for paper in test:\n",
    "    for author in paper[\"authors\"]:\n",
    "        affiliation = author[\"affiliation\"]\n",
    "        deduced_attributes, total_cost = deduce_attributes(affiliation, total_cost)\n",
    "        author.update(deduced_attributes)\n",
    "\n",
    "# 循环结束后打印总成本\n",
    "print(f\"Total cost: ${total_cost}\")\n"
   ]
  }
 ],
 "metadata": {
  "kernelspec": {
   "display_name": "venv",
   "language": "python",
   "name": "python3"
  },
  "language_info": {
   "codemirror_mode": {
    "name": "ipython",
    "version": 3
   },
   "file_extension": ".py",
   "mimetype": "text/x-python",
   "name": "python",
   "nbconvert_exporter": "python",
   "pygments_lexer": "ipython3",
   "version": "3.9.18"
  }
 },
 "nbformat": 4,
 "nbformat_minor": 2
}
