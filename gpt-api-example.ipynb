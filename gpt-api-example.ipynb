{
 "cells": [
  {
   "cell_type": "code",
   "execution_count": 3,
   "metadata": {},
   "outputs": [],
   "source": [
    "# prompt\n",
    "import openai\n",
    "import os\n",
    "\n",
    "from dotenv import load_dotenv, find_dotenv\n",
    "_ = load_dotenv(find_dotenv()) # read local .env file\n",
    "\n",
    "openai.api_key = os.getenv('OPENAI_API_KEY')"
   ]
  },
  {
   "cell_type": "code",
   "execution_count": 8,
   "metadata": {},
   "outputs": [
    {
     "data": {
      "text/plain": [
       "'You are a seasoned data annotation engineer with extensive experience in reviewing restaurant. \\nYour task is to classify the sentiment of a review based on three dimension: Ambience, Food, and Price.\\nSentiment classification: positive to 1, negative to 2, neutral to 3, unknown to 0.\\nOnly output the JSON, do not include any other information.\\nPlease enter the review:'"
      ]
     },
     "execution_count": 8,
     "metadata": {},
     "output_type": "execute_result"
    }
   ],
   "source": [
    "# read prompt\n",
    "with open('prompt.txt') as f:\n",
    "    system_prompt = f.read()\n",
    "\n",
    "system_prompt"
   ]
  },
  {
   "cell_type": "code",
   "execution_count": 9,
   "metadata": {},
   "outputs": [],
   "source": [
    "user_message = \"This place is pretty cool with awesome decor. The drinks are decent but a bit on the pricey side.\""
   ]
  },
  {
   "cell_type": "code",
   "execution_count": 12,
   "metadata": {},
   "outputs": [
    {
     "name": "stdout",
     "output_type": "stream",
     "text": [
      "{\n",
      "  \"Ambience\": 1,\n",
      "  \"Food\": 3,\n",
      "  \"Price\": 2\n",
      "}\n",
      "111 24 135\n",
      "cost: 6.75e-05\n"
     ]
    }
   ],
   "source": [
    "from openai import OpenAI\n",
    "client = OpenAI()\n",
    "\n",
    "#model=\"gpt-4-0125-preview\"\n",
    "model=\"gpt-3.5-turbo-0125\"\n",
    "\n",
    "response = client.chat.completions.create(\n",
    "  model=model,\n",
    "  temperature=0,\n",
    "  response_format={ \"type\": \"json_object\" },\n",
    "  messages=[\n",
    "    {\"role\": \"system\", \"content\": system_prompt},\n",
    "    {\"role\": \"user\", \"content\": user_message}\n",
    "  ]\n",
    ")\n",
    "print(response.choices[0].message.content)\n",
    "print(response.usage.prompt_tokens, response.usage.completion_tokens, response.usage.total_tokens)\n",
    "print(f\"cost: {response.usage.total_tokens* 0.5/1000000}\")"
   ]
  }
 ],
 "metadata": {
  "kernelspec": {
   "display_name": "venv",
   "language": "python",
   "name": "python3"
  },
  "language_info": {
   "codemirror_mode": {
    "name": "ipython",
    "version": 3
   },
   "file_extension": ".py",
   "mimetype": "text/x-python",
   "name": "python",
   "nbconvert_exporter": "python",
   "pygments_lexer": "ipython3",
   "version": "3.10.0"
  }
 },
 "nbformat": 4,
 "nbformat_minor": 2
}
