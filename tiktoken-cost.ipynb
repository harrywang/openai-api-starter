{
 "cells": [
  {
   "cell_type": "code",
   "execution_count": 2,
   "metadata": {},
   "outputs": [
    {
     "name": "stdout",
     "output_type": "stream",
     "text": [
      "Input tokens: 6\n",
      "Output tokens: 3\n",
      "Total tokens: 9\n",
      "Input cost: $0.000060\n",
      "Output cost: $0.000090\n",
      "Total cost: $0.000150\n"
     ]
    }
   ],
   "source": [
    "import tiktoken\n",
    "\n",
    "# \"gpt-4\": \"cl100k_base\",\n",
    "# \"gpt-3.5-turbo\": \"cl100k_base\",\n",
    "# \"gpt-3.5\": \"cl100k_base\",  # Common shorthand\n",
    "# \"gpt-35-turbo\": \"cl100k_base\",  # Azure deployment name\n",
    "\n",
    "model = \"gpt-4\"  # gpt-3.5-turbo\n",
    "\n",
    "# pricing: https://openai.com/pricing\n",
    "# GPT 3.5 Turbo: $0.50 / 1M tokens\t$1.50 / 1M tokens\n",
    "# GPT 4 turbo: $10 / 1M tokens\t$30 / 1M tokens\n",
    "\n",
    "system_prompt = \"\"  # counts as user prompt for pricing\n",
    "user_prompt = \"tiktoken is great!\"\n",
    "assistant_response = \"I agree!\"\n",
    "\n",
    "def get_cost(system_prompt, user_prompt, assistant_response, model):\n",
    "    \"\"\"Returns the cost of generating an assistant response.\"\"\"\n",
    "    encoding = tiktoken.get_encoding(\"cl100k_base\")\n",
    "\n",
    "    if model == \"gpt-3.5-turbo\":\n",
    "        input_price = 0.5\n",
    "        output_price = 1.5\n",
    "    else:\n",
    "        input_price = 10\n",
    "        output_price = 30\n",
    "    \n",
    "    input_tokens = len(encoding.encode(system_prompt + user_prompt))\n",
    "    output_tokens = len(encoding.encode(assistant_response))\n",
    "    total_tokens = input_tokens + output_tokens\n",
    "    input_cost = input_tokens * input_price / 1000000\n",
    "    output_cost = output_tokens * output_price / 1000000\n",
    "    cost = input_cost + output_cost\n",
    "\n",
    "    return input_tokens, output_tokens, total_tokens, input_cost, output_cost, cost\n",
    "\n",
    "input_tokens, output_tokens, total_tokens, input_cost, output_cost, cost = get_cost(system_prompt, user_prompt, assistant_response, model)\n",
    "\n",
    "print(f\"Input tokens: {input_tokens}\")\n",
    "print(f\"Output tokens: {output_tokens}\")\n",
    "print(f\"Total tokens: {total_tokens}\")\n",
    "print(f\"Input cost: ${input_cost:.6f}\")\n",
    "print(f\"Output cost: ${output_cost:.6f}\")\n",
    "print(f\"Total cost: ${cost:.6f}\")"
   ]
  },
  {
   "cell_type": "code",
   "execution_count": null,
   "metadata": {},
   "outputs": [],
   "source": []
  }
 ],
 "metadata": {
  "kernelspec": {
   "display_name": "venv",
   "language": "python",
   "name": "python3"
  },
  "language_info": {
   "codemirror_mode": {
    "name": "ipython",
    "version": 3
   },
   "file_extension": ".py",
   "mimetype": "text/x-python",
   "name": "python",
   "nbconvert_exporter": "python",
   "pygments_lexer": "ipython3",
   "version": "3.10.0"
  }
 },
 "nbformat": 4,
 "nbformat_minor": 2
}
