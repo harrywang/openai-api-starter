{
 "cells": [
  {
   "cell_type": "code",
   "execution_count": 11,
   "metadata": {},
   "outputs": [],
   "source": [
    "# prompt\n",
    "import openai\n",
    "import os\n",
    "import json\n",
    "\n",
    "from dotenv import load_dotenv, find_dotenv\n",
    "\n",
    "_ = load_dotenv(find_dotenv()) # read local .env file\n",
    "\n",
    "openai.api_key = os.getenv('OPENAI_API_KEY')"
   ]
  },
  {
   "cell_type": "code",
   "execution_count": 16,
   "metadata": {},
   "outputs": [
    {
     "data": {
      "text/plain": [
       "'You are an experienced data labeling engineer with extensive experience in labeling affiliation informations. Your task is to use your comprehensive knowledge of business and management schools to complete seven attributes. If any one attribute is not specified in the provided information please deduce by other attributes. \\n\"Address\": \\n\"Department\" (under \"college/school/faculty\")\\n\"College/School/Faculty\"\\n\"If it\\'s a business/management school\" \\n\"University/Company/Institute\"\\n\"Country (ISO)\"\\n\"City\"\\n\\nPlease provide the output only in JSON format and do not include any additional information.\\n\\nPlease input affiliation information: '"
      ]
     },
     "execution_count": 16,
     "metadata": {},
     "output_type": "execute_result"
    }
   ],
   "source": [
    "# read prompt\n",
    "with open('/Users/yihong_eric_chen/Desktop/buzpub/affilation/openai-api-starter/promp_simple.txt') as f:\n",
    "    system_prompt = f.read()\n",
    "\n",
    "system_prompt"
   ]
  },
  {
   "cell_type": "code",
   "execution_count": 17,
   "metadata": {},
   "outputs": [],
   "source": [
    "user_input = '''\n",
    "Department of Accountancy, City University of Hong Kong, Kowloon, Hong Kong, China\n",
    "'''"
   ]
  },
  {
   "cell_type": "code",
   "execution_count": 18,
   "metadata": {},
   "outputs": [
    {
     "name": "stdout",
     "output_type": "stream",
     "text": [
      "{\n",
      "    \"Address\": \"City University of Hong Kong, Kowloon, Hong Kong, China\",\n",
      "    \"Department\": \"Department of Accountancy\",\n",
      "    \"College/School/Faculty\": \"Not specified\",\n",
      "    \"If it's a business/management school\": \"Yes\",\n",
      "    \"University/Company/Institute\": \"City University of Hong Kong\",\n",
      "    \"Country (ISO)\": \"HK\",\n",
      "    \"City\": \"Kowloon\"\n",
      "}\n",
      "157 93 250\n",
      "cost: 0.000125\n",
      "total cost: 50.8125\n"
     ]
    }
   ],
   "source": [
    "from openai import OpenAI\n",
    "client = OpenAI()\n",
    "\n",
    "model=\"gpt-3.5-turbo-0125\"\n",
    "\n",
    "response = client.chat.completions.create(\n",
    "    model=model,\n",
    "    temperature=0,\n",
    "    response_format={ \"type\": \"json_object\" },\n",
    "    messages=[\n",
    "        {\"role\": \"system\", \"content\": system_prompt},\n",
    "        {\"role\": \"user\", \"content\": user_input}\n",
    "        ]\n",
    "    )\n",
    "print(response.choices[0].message.content)\n",
    "print(response.usage.prompt_tokens, response.usage.completion_tokens, response.usage.total_tokens)\n",
    "print(f\"cost: {response.usage.total_tokens* 0.5/1000000}\")\n",
    "print(f\"total cost: {response.usage.total_tokens* 406500*0.5/1000000}\")"
   ]
  },
  {
   "cell_type": "code",
   "execution_count": 10,
   "metadata": {},
   "outputs": [
    {
     "name": "stdout",
     "output_type": "stream",
     "text": [
      "{\n",
      "  \"address\": \"83 Tat Chee Avenue, Kowloon, Hong Kong\",\n",
      "  \"department\": \"Department of Accountancy\",\n",
      "  \"college/school/faculty\": \"CityU College of Business\",\n",
      "  \"if it's a business/management school\": true,\n",
      "  \"university/company/institute\": \"City University of Hong Kong\",\n",
      "  \"country\": \"HK\",\n",
      "  \"city\": \"Hong Kong\"\n",
      "}\n",
      "625 89 714\n",
      "cost: 0.000357\n",
      "total cost: 145.1205\n"
     ]
    }
   ],
   "source": [
    "print(response.choices[0].message.content)\n",
    "print(response.usage.prompt_tokens, response.usage.completion_tokens, response.usage.total_tokens)\n",
    "print(f\"cost: {response.usage.total_tokens* 0.5/1000000}\")\n",
    "print(f\"total cost: {response.usage.total_tokens* 406500*0.5/1000000}\")"
   ]
  }
 ],
 "metadata": {
  "kernelspec": {
   "display_name": "venv",
   "language": "python",
   "name": "python3"
  },
  "language_info": {
   "codemirror_mode": {
    "name": "ipython",
    "version": 3
   },
   "file_extension": ".py",
   "mimetype": "text/x-python",
   "name": "python",
   "nbconvert_exporter": "python",
   "pygments_lexer": "ipython3",
   "version": "3.9.18"
  }
 },
 "nbformat": 4,
 "nbformat_minor": 2
}
